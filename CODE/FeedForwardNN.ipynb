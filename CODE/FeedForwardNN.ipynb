{
 "cells": [
  {
   "cell_type": "code",
   "execution_count": null,
   "id": "ef00abe2",
   "metadata": {},
   "outputs": [],
   "source": [
    "import os\n",
    "import matplotlib.pyplot as plt\n",
    "from PIL import Image # For handling the images\n",
    "import numpy as np\n",
    "import pandas as pd\n",
    "\n",
    "\n",
    "# Import different Keras functionalities\n",
    "from keras.models import Sequential, Model, load_model\n",
    "from keras.layers import Dense, Input, Flatten, Dropout, concatenate\n",
    "from keras.constraints import maxnorm\n",
    "from keras.optimizers import SGD, Adam\n",
    "from keras.layers.convolutional import Conv2D, MaxPooling2D\n",
    "from keras.utils import np_utils\n",
    "from keras import backend as K\n",
    "\n",
    "import tensorflow as tf\n",
    "\n",
    "from pathlib import Path"
   ]
  },
  {
   "cell_type": "code",
   "execution_count": null,
   "id": "1176c5ec",
   "metadata": {},
   "outputs": [],
   "source": [
    "path_subjects = \"../DATA/dogs-vs-cats/train\"\n",
    "for f_name in os.listdir(path_subjects):\n",
    "    img = Image.open(path_subjects + '/' + f_name)\n",
    "    plt.imshow(img, cmap='rgb', vmin=0, vmax=255)\n",
    "    plt.title('subject: ' + str(f_name))\n",
    "    plt.show()"
   ]
  },
  {
   "cell_type": "code",
   "execution_count": null,
   "id": "ab9d6285",
   "metadata": {},
   "outputs": [],
   "source": [
    "weights_path = './FFNN-results/weights.h5'\n",
    "loss_img_name = './FFNN-results/loss.png'\n",
    "accuracy_img_name = './FFNN-results/accuracy.png'\n",
    "\n",
    "weights_file = Path(weights_path)"
   ]
  },
  {
   "cell_type": "code",
   "execution_count": 3,
   "id": "3130d464",
   "metadata": {},
   "outputs": [],
   "source": [
    "# Parameters that characterizes the images, size and image type\n",
    "img_width=128\n",
    "img_height=128\n",
    "img_channels=3\n",
    "img_mode='rgb'"
   ]
  },
  {
   "cell_type": "code",
   "execution_count": 5,
   "id": "92cd20d0",
   "metadata": {},
   "outputs": [],
   "source": [
    "filenames=os.listdir(\"../DATA/dogs-vs-cats/train\")\n",
    "categories=[]\n",
    "for f_name in filenames:\n",
    "    category=f_name.split('.')[0]\n",
    "    if category=='dog':\n",
    "        categories.append(1)\n",
    "    else:\n",
    "        categories.append(0)\n",
    "df=pd.DataFrame({\n",
    "    'filename':filenames,\n",
    "    'category':categories\n",
    "})"
   ]
  },
  {
   "cell_type": "code",
   "execution_count": null,
   "id": "7b6108e6",
   "metadata": {},
   "outputs": [],
   "source": [
    "def createNetwork:\n",
    "    return model"
   ]
  }
 ],
 "metadata": {
  "kernelspec": {
   "display_name": "Python 3 (ipykernel)",
   "language": "python",
   "name": "python3"
  },
  "language_info": {
   "codemirror_mode": {
    "name": "ipython",
    "version": 3
   },
   "file_extension": ".py",
   "mimetype": "text/x-python",
   "name": "python",
   "nbconvert_exporter": "python",
   "pygments_lexer": "ipython3",
   "version": "3.9.7"
  }
 },
 "nbformat": 4,
 "nbformat_minor": 5
}
