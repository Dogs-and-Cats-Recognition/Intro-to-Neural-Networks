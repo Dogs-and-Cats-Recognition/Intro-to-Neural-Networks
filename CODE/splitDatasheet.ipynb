{
 "cells": [
  {
   "cell_type": "code",
   "execution_count": 1,
   "metadata": {},
   "outputs": [
    {
     "name": "stderr",
     "output_type": "stream",
     "text": [
      "Using TensorFlow backend.\n"
     ]
    }
   ],
   "source": [
    "import os\n",
    "from keras.preprocessing.image import load_img\n"
   ]
  },
  {
   "cell_type": "code",
   "execution_count": 2,
   "metadata": {},
   "outputs": [],
   "source": [
    "data_path = \"../DATA/original-dogs-vs-cats/train/\"\n",
    "BW_path = \"../DATA/dogs-vs-cats-BW/\"\n",
    "\n",
    "BW_train_dog_path = \"../DATA/BW-dogs-vs-cats/train/dog/\"\n",
    "BW_train_cat_path = \"../DATA/BW-dogs-vs-cats/train/cat/\"\n",
    "BW_test_dog_path = \"../DATA/BW-dogs-vs-cats/test/dog/\"\n",
    "BW_test_cat_path = \"../DATA/BW-dogs-vs-cats/test/cat/\"\n",
    "\n",
    "train_dog_path = \"../DATA/dogs-vs-cats/train/dog/\"\n",
    "train_cat_path = \"../DATA/dogs-vs-cats/train/cat/\"\n",
    "test_dog_path = \"../DATA/dogs-vs-cats/test/dog/\"\n",
    "test_cat_path = \"../DATA/dogs-vs-cats/test/cat/\"\n",
    "shape_size = 200\n",
    "trainable_data = 0.8"
   ]
  },
  {
   "cell_type": "code",
   "execution_count": 3,
   "metadata": {},
   "outputs": [
    {
     "ename": "KeyboardInterrupt",
     "evalue": "",
     "output_type": "error",
     "traceback": [
      "\u001b[1;31m---------------------------------------------------------------------------\u001b[0m",
      "\u001b[1;31mKeyboardInterrupt\u001b[0m                         Traceback (most recent call last)",
      "\u001b[1;32m<ipython-input-3-1edb0261940c>\u001b[0m in \u001b[0;36m<module>\u001b[1;34m()\u001b[0m\n\u001b[0;32m     30\u001b[0m \u001b[1;32mfor\u001b[0m \u001b[0mfile\u001b[0m \u001b[1;32min\u001b[0m \u001b[0mos\u001b[0m\u001b[1;33m.\u001b[0m\u001b[0mlistdir\u001b[0m\u001b[1;33m(\u001b[0m\u001b[0mdata_path\u001b[0m\u001b[1;33m)\u001b[0m\u001b[1;33m:\u001b[0m\u001b[1;33m\u001b[0m\u001b[1;33m\u001b[0m\u001b[0m\n\u001b[0;32m     31\u001b[0m \u001b[1;33m\u001b[0m\u001b[0m\n\u001b[1;32m---> 32\u001b[1;33m         \u001b[0mphoto\u001b[0m \u001b[1;33m=\u001b[0m \u001b[0mload_img\u001b[0m\u001b[1;33m(\u001b[0m\u001b[0mdata_path\u001b[0m \u001b[1;33m+\u001b[0m \u001b[0mfile\u001b[0m\u001b[1;33m,\u001b[0m \u001b[0mtarget_size\u001b[0m\u001b[1;33m=\u001b[0m\u001b[1;33m(\u001b[0m\u001b[0mshape_size\u001b[0m\u001b[1;33m,\u001b[0m \u001b[0mshape_size\u001b[0m\u001b[1;33m)\u001b[0m\u001b[1;33m)\u001b[0m\u001b[1;33m\u001b[0m\u001b[1;33m\u001b[0m\u001b[0m\n\u001b[0m\u001b[0;32m     33\u001b[0m         \u001b[1;32mif\u001b[0m \u001b[0mfile\u001b[0m\u001b[1;33m.\u001b[0m\u001b[0mstartswith\u001b[0m\u001b[1;33m(\u001b[0m\u001b[1;34m'dog'\u001b[0m\u001b[1;33m)\u001b[0m\u001b[1;33m:\u001b[0m\u001b[1;33m\u001b[0m\u001b[1;33m\u001b[0m\u001b[0m\n\u001b[0;32m     34\u001b[0m                 \u001b[1;32mif\u001b[0m \u001b[0mdog\u001b[0m \u001b[1;33m<\u001b[0m \u001b[0mtrainableDogs_length\u001b[0m\u001b[1;33m:\u001b[0m\u001b[1;33m\u001b[0m\u001b[1;33m\u001b[0m\u001b[0m\n",
      "\u001b[1;32mC:\\Users\\Carlos\\.conda\\envs\\Python3_6\\lib\\site-packages\\keras_preprocessing\\image\\utils.py\u001b[0m in \u001b[0;36mload_img\u001b[1;34m(path, grayscale, color_mode, target_size, interpolation)\u001b[0m\n\u001b[0;32m    108\u001b[0m         raise ImportError('Could not import PIL.Image. '\n\u001b[0;32m    109\u001b[0m                           'The use of `load_img` requires PIL.')\n\u001b[1;32m--> 110\u001b[1;33m     \u001b[0mimg\u001b[0m \u001b[1;33m=\u001b[0m \u001b[0mpil_image\u001b[0m\u001b[1;33m.\u001b[0m\u001b[0mopen\u001b[0m\u001b[1;33m(\u001b[0m\u001b[0mpath\u001b[0m\u001b[1;33m)\u001b[0m\u001b[1;33m\u001b[0m\u001b[1;33m\u001b[0m\u001b[0m\n\u001b[0m\u001b[0;32m    111\u001b[0m     \u001b[1;32mif\u001b[0m \u001b[0mcolor_mode\u001b[0m \u001b[1;33m==\u001b[0m \u001b[1;34m'grayscale'\u001b[0m\u001b[1;33m:\u001b[0m\u001b[1;33m\u001b[0m\u001b[1;33m\u001b[0m\u001b[0m\n\u001b[0;32m    112\u001b[0m         \u001b[1;32mif\u001b[0m \u001b[0mimg\u001b[0m\u001b[1;33m.\u001b[0m\u001b[0mmode\u001b[0m \u001b[1;33m!=\u001b[0m \u001b[1;34m'L'\u001b[0m\u001b[1;33m:\u001b[0m\u001b[1;33m\u001b[0m\u001b[1;33m\u001b[0m\u001b[0m\n",
      "\u001b[1;32mC:\\Users\\Carlos\\.conda\\envs\\Python3_6\\lib\\site-packages\\PIL\\Image.py\u001b[0m in \u001b[0;36mopen\u001b[1;34m(fp, mode, formats)\u001b[0m\n\u001b[0;32m   2889\u001b[0m \u001b[1;33m\u001b[0m\u001b[0m\n\u001b[0;32m   2890\u001b[0m     \u001b[1;32mif\u001b[0m \u001b[0mfilename\u001b[0m\u001b[1;33m:\u001b[0m\u001b[1;33m\u001b[0m\u001b[1;33m\u001b[0m\u001b[0m\n\u001b[1;32m-> 2891\u001b[1;33m         \u001b[0mfp\u001b[0m \u001b[1;33m=\u001b[0m \u001b[0mbuiltins\u001b[0m\u001b[1;33m.\u001b[0m\u001b[0mopen\u001b[0m\u001b[1;33m(\u001b[0m\u001b[0mfilename\u001b[0m\u001b[1;33m,\u001b[0m \u001b[1;34m\"rb\"\u001b[0m\u001b[1;33m)\u001b[0m\u001b[1;33m\u001b[0m\u001b[1;33m\u001b[0m\u001b[0m\n\u001b[0m\u001b[0;32m   2892\u001b[0m         \u001b[0mexclusive_fp\u001b[0m \u001b[1;33m=\u001b[0m \u001b[1;32mTrue\u001b[0m\u001b[1;33m\u001b[0m\u001b[1;33m\u001b[0m\u001b[0m\n\u001b[0;32m   2893\u001b[0m \u001b[1;33m\u001b[0m\u001b[0m\n",
      "\u001b[1;31mKeyboardInterrupt\u001b[0m: "
     ]
    }
   ],
   "source": [
    "aux = os.listdir(data_path) # dir is your directory path\n",
    "number_images = len(aux)\n",
    "trainable_length = number_images*trainable_data\n",
    "\n",
    "dogs_images = 0\n",
    "cats_images = 0\n",
    "\n",
    "for file in os.listdir(data_path):\n",
    "\t# determine class\n",
    "\tif file.startswith('dog'):\n",
    "\t\tdogs_images = dogs_images + 1\n",
    "\telse:\n",
    "\t\tcats_images = cats_images + 1\n",
    "\n",
    "trainableDogs_length = int(dogs_images*trainable_data)\n",
    "trainableCats_length = int(cats_images*trainable_data)\n",
    "\n",
    "if not os.path.exists(train_dog_path):\n",
    "    os.makedirs(train_dog_path)\n",
    "if not os.path.exists(train_cat_path):\n",
    "    os.makedirs(train_cat_path)\n",
    "if not os.path.exists(test_dog_path):\n",
    "    os.makedirs(test_dog_path)\n",
    "if not os.path.exists(test_cat_path):\n",
    "    os.makedirs(test_cat_path)\n",
    "\n",
    "if not os.path.exists(BW_train_dog_path):\n",
    "    os.makedirs(BW_train_dog_path)\n",
    "if not os.path.exists(BW_train_cat_path):\n",
    "    os.makedirs(BW_train_cat_path)\n",
    "if not os.path.exists(BW_test_dog_path):\n",
    "    os.makedirs(BW_test_dog_path)\n",
    "if not os.path.exists(BW_test_cat_path):\n",
    "    os.makedirs(BW_test_cat_path)\n",
    "\n",
    "# enumerate files in the directory\n",
    "dog = 0\n",
    "cat = 0\n",
    "for file in os.listdir(data_path):\n",
    "\n",
    "\tphoto = load_img(data_path + file, target_size=(shape_size, shape_size))\n",
    "\tphotoBW = photo.convert('L')\n",
    "\tif file.startswith('dog'):\n",
    "\t\tif dog < trainableDogs_length:\n",
    "\t\t\tphoto.save(train_dog_path + str(dog) + \".png\")\n",
    "\t\t\tphotoBW.save(BW_train_dog_path + str(dog) + \".png\")\n",
    "\t\telse:\n",
    "\t\t\tphoto.save(test_dog_path + str(dog) + \".png\")\n",
    "\t\t\tphotoBW.save(BW_test_dog_path + str(dog) + \".png\")\n",
    "\n",
    "\t\tdog = dog + 1\n",
    "\telse:\n",
    "\t\tif cat < trainableCats_length:\n",
    "\t\t\tphoto.save(train_cat_path + str(cat) + \".png\")\n",
    "\t\t\tphotoBW.save(BW_train_cat_path + str(cat) + \".png\")\n",
    "\t\telse:\n",
    "\t\t\tphoto.save(test_cat_path + str(cat) + \".png\")\n",
    "\t\t\tphotoBW.save(BW_test_cat_path + str(cat) + \".png\")\n",
    "\t\tcat = cat + 1\n",
    "\n"
   ]
  }
 ],
 "metadata": {
  "interpreter": {
   "hash": "23972bf2e42edf0cda62a7d3e4c41d6748eb1c8c653b181e261401f4cfa290b9"
  },
  "kernelspec": {
   "display_name": "Python 3.6.15 64-bit ('Python3_6': conda)",
   "language": "python",
   "name": "python3"
  },
  "language_info": {
   "codemirror_mode": {
    "name": "ipython",
    "version": 3
   },
   "file_extension": ".py",
   "mimetype": "text/x-python",
   "name": "python",
   "nbconvert_exporter": "python",
   "pygments_lexer": "ipython3",
   "version": "3.6.15"
  },
  "orig_nbformat": 4
 },
 "nbformat": 4,
 "nbformat_minor": 2
}
