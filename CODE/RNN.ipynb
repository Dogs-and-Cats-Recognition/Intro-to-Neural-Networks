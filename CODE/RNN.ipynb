{
 "cells": [
  {
   "cell_type": "code",
   "execution_count": 8,
   "id": "bdac698d",
   "metadata": {},
   "outputs": [],
   "source": [
    "# Load Larger LSTM network and generate text\n",
    "\n",
    "\n",
    "\n",
    "import os\n",
    "import numpy\n",
    "import matplotlib.pyplot as plt\n",
    "import pandas\n",
    "import math\n",
    "import numpy as np\n",
    "import keras.callbacks\n",
    "import sklearn.metrics as metrics\n",
    "from pathlib import Path\n",
    "from keras.models import Sequential\n",
    "from keras.layers import Dense, Reshape\n",
    "from keras.layers import LSTM,SimpleRNN, GRU\n",
    "from sklearn.preprocessing import MinMaxScaler\n",
    "from sklearn.metrics import mean_squared_error\n",
    "\n",
    "from keras.preprocessing.image import ImageDataGenerator\n",
    "\n",
    "# Import function to plot the confussion matrix\n",
    "import plotcm\n",
    "\n"
   ]
  },
  {
   "cell_type": "code",
   "execution_count": 2,
   "id": "f0c2b8bf",
   "metadata": {},
   "outputs": [],
   "source": [
    "#model_type = 'LSTM'\n",
    "#model_type = 'GRU'\n",
    "model_type = 'SIMPLE'\n",
    "action = \"train\" \n",
    "#action = \"test\" \n",
    "\n",
    "\n",
    "data_path = \"../DATA/BW-dogs-vs-cats/train/\"\n",
    "test_path = \"../DATA/BW-dogs-vs-cats/test/\"\n",
    "\n",
    "\n",
    "\n",
    "learning_rate = 0.001\n",
    "training_steps = 10000\n",
    "timesteps = 28\n",
    "batch_size = 64\n",
    "shape_size = 200\n",
    "num_hidden = 128\n",
    "display_step = shape_size\n",
    "\n",
    "experiment_rootdir = '../RNN-results/'\n",
    "weights_path = experiment_rootdir + model_type + \"_weights.h5\"\n",
    "accuracy_img_name = experiment_rootdir + model_type + '_accuracy-loss.png'\n",
    "cm_dir = experiment_rootdir + model_type\n",
    "\n",
    "# Output dimension (number of sublects in our problem)\n",
    "num_classes = 2\n",
    "# Name of each gesture of the database\n",
    "CLASSES = ['cat', 'dog']\n",
    "\n",
    "if not os.path.exists(experiment_rootdir):\n",
    "    os.makedirs(experiment_rootdir)\n",
    "if not os.path.exists(experiment_rootdir):\n",
    "    os.makedirs(experiment_rootdir)"
   ]
  },
  {
   "cell_type": "code",
   "execution_count": 3,
   "id": "d0d9d84e",
   "metadata": {},
   "outputs": [
    {
     "data": {
      "text/plain": [
       "\"\\ncount=0\\nfor f_name in os.listdir(path_subjects):\\n    if(count<20):\\n        img = Image.open(path_subjects + '/' + f_name)\\n        plt.imshow(img, vmin=0, vmax=255)\\n        plt.title('subject: ' + str(f_name))\\n        plt.show()\\n        count+=1\\n\""
      ]
     },
     "execution_count": 3,
     "metadata": {},
     "output_type": "execute_result"
    }
   ],
   "source": [
    "\"\"\"\n",
    "count=0\n",
    "for f_name in os.listdir(path_subjects):\n",
    "    if(count<20):\n",
    "        img = Image.open(path_subjects + '/' + f_name)\n",
    "        plt.imshow(img, vmin=0, vmax=255)\n",
    "        plt.title('subject: ' + str(f_name))\n",
    "        plt.show()\n",
    "        count+=1\n",
    "\"\"\""
   ]
  },
  {
   "cell_type": "code",
   "execution_count": 4,
   "id": "5b28b2ac",
   "metadata": {},
   "outputs": [
    {
     "name": "stdout",
     "output_type": "stream",
     "text": [
      "Found 20000 images belonging to 2 classes.\n",
      "Found 5000 images belonging to 2 classes.\n"
     ]
    }
   ],
   "source": [
    "# prepare iterators\n",
    "datagen = ImageDataGenerator(rescale=1.0/255.0)\n",
    "# normalize the dataset\n",
    "scaler = MinMaxScaler(feature_range=(0, 1))\n",
    "\n",
    "train_it = datagen.flow_from_directory(data_path, class_mode='binary', color_mode = 'grayscale', batch_size=batch_size, target_size=(shape_size, shape_size))\n",
    "test_it = datagen.flow_from_directory(test_path, class_mode='binary', color_mode = 'grayscale', batch_size=batch_size, target_size=(shape_size, shape_size))\n"
   ]
  },
  {
   "cell_type": "code",
   "execution_count": 5,
   "id": "e5159403",
   "metadata": {},
   "outputs": [],
   "source": [
    "def LSTM_Model():\n",
    "    # create and fit the LSTM network\n",
    "    model = Sequential()\n",
    "    model.add(Reshape((200, 200), input_shape=(200, 200,1)))\n",
    "    model.add(LSTM(4))\n",
    "    model.add(Dense(1))\n",
    "\n",
    "    model.compile(metrics=['accuracy'], loss='mean_squared_error', optimizer='adam')\n",
    "    return model\n",
    "    \n",
    "def GRU_Model():\n",
    "    # create and fit the LSTM network\n",
    "    model = Sequential()\n",
    "    model.add(Reshape((200, 200), input_shape=(200, 200,1)))\n",
    "    model.add(GRU(4,return_sequences=False))\n",
    "    model.add(Dense(1))\n",
    "\n",
    "    model.compile(metrics=['accuracy'], loss='mean_squared_error', optimizer='adam')\n",
    "    return model\n",
    "\n",
    "def SIMPLE_Model():\n",
    "    # create and fit the LSTM network\n",
    "    model = Sequential()\n",
    "    model.add(Reshape((200, 200), input_shape=(200, 200,1)))\n",
    "    model.add(SimpleRNN(128))\n",
    "    model.add(Dense(1))\n",
    "\n",
    "    model.compile(metrics=['accuracy'], loss='mean_squared_error', optimizer='adam')\n",
    "    return model\n"
   ]
  },
  {
   "cell_type": "code",
   "execution_count": 6,
   "id": "45416cd0",
   "metadata": {},
   "outputs": [
    {
     "name": "stdout",
     "output_type": "stream",
     "text": [
      "Epoch 1/10\n",
      "312/312 [==============================] - 135s 432ms/step - loss: 0.2638 - accuracy: 0.5370\n",
      "Epoch 2/10\n",
      "312/312 [==============================] - 99s 316ms/step - loss: 0.2495 - accuracy: 0.5491\n",
      "Epoch 3/10\n",
      "312/312 [==============================] - 95s 305ms/step - loss: 0.2475 - accuracy: 0.5535\n",
      "Epoch 4/10\n",
      "312/312 [==============================] - 113s 361ms/step - loss: 0.2456 - accuracy: 0.5629\n",
      "Epoch 5/10\n",
      "312/312 [==============================] - 110s 353ms/step - loss: 0.2449 - accuracy: 0.5696\n",
      "Epoch 6/10\n",
      "312/312 [==============================] - 95s 304ms/step - loss: 0.2446 - accuracy: 0.5693\n",
      "Epoch 7/10\n",
      "312/312 [==============================] - 92s 294ms/step - loss: 0.2431 - accuracy: 0.5769\n",
      "Epoch 8/10\n",
      "312/312 [==============================] - 85s 273ms/step - loss: 0.2429 - accuracy: 0.5774\n",
      "Epoch 9/10\n",
      "312/312 [==============================] - 84s 270ms/step - loss: 0.2442 - accuracy: 0.5690\n",
      "Epoch 10/10\n",
      "312/312 [==============================] - 87s 278ms/step - loss: 0.2425 - accuracy: 0.5790\n"
     ]
    }
   ],
   "source": [
    "\n",
    "if model_type == 'LSTM':\n",
    "    model = LSTM_Model()\n",
    "elif model_type == 'GRU':\n",
    "    model = GRU_Model()\n",
    "elif model_type == 'SIMPLE':\n",
    "    model = SIMPLE_Model()\n",
    "\n",
    "if action == 'train':\n",
    "    if  os.path.exists(weights_path):\n",
    "        os.remove(weights_path)\n",
    "    STEPS_PER_EPOCH_TRAIN = train_it.n//batch_size\n",
    "    cb_checkpointer = keras.callbacks.ModelCheckpoint(filepath = weights_path, monitor = 'accuracy', save_best_only = True, mode = 'auto')\n",
    "    fit_history = model.fit_generator(generator=train_it, epochs=10, steps_per_epoch=STEPS_PER_EPOCH_TRAIN, callbacks=[cb_checkpointer])\n",
    "elif action == 'test':\n",
    "    if weights_path:\n",
    "        try:\n",
    "            model.load_weights(weights_path)\n",
    "            print(\"Loaded model from {}\".format(weights_path))\n",
    "        except:\n",
    "            print(\"Impossible to find weight path. Returning untrained model\")\n",
    "    "
   ]
  },
  {
   "cell_type": "code",
   "execution_count": 7,
   "id": "1b053212",
   "metadata": {},
   "outputs": [
    {
     "name": "stdout",
     "output_type": "stream",
     "text": [
      "(4992,)\n",
      "-----------------------------------------------\n",
      "Evaluation:\n",
      "Average accuracy = 0.500801282051282\n",
      "-----------------------------------------------\n"
     ]
    },
    {
     "data": {
      "image/png": "[encoded data removed]",
      "text/plain": [
       "<Figure size 432x288 with 2 Axes>"
      ]
     },
     "metadata": {
      "needs_background": "light"
     },
     "output_type": "display_data"
    },
    {
     "data": {
      "image/png": "[encoded data removed]",
      "text/plain": [
       "<Figure size 432x288 with 1 Axes>"
      ]
     },
     "metadata": {
      "needs_background": "light"
     },
     "output_type": "display_data"
    }
   ],
   "source": [
    "# Get predictions using predict_generator function\n",
    "STEPS_PER_EPOCH_TEST = test_it.n//batch_size\n",
    "pred_labels = model.predict_generator(test_it,steps = STEPS_PER_EPOCH_TEST)\n",
    "pred_labels = np.argmax(pred_labels, axis = 1)\n",
    "\n",
    "# Select the class which has the higher predicted value\n",
    "print(pred_labels.shape)\n",
    "\n",
    "# Create groundtruth\n",
    "gt = np.zeros(pred_labels.shape)\n",
    "init_index = 0\n",
    "end_index = 0\n",
    "user_id = 0\n",
    "for users in sorted(os.listdir(test_path)):\n",
    "    user_id = user_id + 1\n",
    "    if os.path.isdir(os.path.join(test_path, users)):\n",
    "        user_path = os.path.join(test_path, users)\n",
    "        for root, _, files in sorted(os.walk(user_path)):\n",
    "            num_images_user = len(files)\n",
    "            end_index = init_index + num_images_user\n",
    "            gt[init_index:end_index] = user_id - 1\n",
    "            init_index = end_index\n",
    "            \n",
    "# Evaluate predictions: Average accuracy and highest errors\n",
    "print(\"-----------------------------------------------\")\n",
    "print(\"Evaluation:\")\n",
    "# Compute average accuracy\n",
    "ave_accuracy = metrics.accuracy_score(gt, pred_labels)\n",
    "print('Average accuracy = ' + str(ave_accuracy))\n",
    "print(\"-----------------------------------------------\")\n",
    "\n",
    "# Visualize confusion matrix\n",
    "plotcm.plotcm(experiment_rootdir, gt, pred_labels,CLASSES, experiment_rootdir, normalize=True)\n",
    "\n",
    "if action == 'train':\n",
    "    plt.plot(fit_history.history['accuracy'])\n",
    "    plt.plot(fit_history.history['loss'])\n",
    "    plt.title('Model accuracy and loss')\n",
    "    plt.ylabel('vaules')\n",
    "    plt.xlabel('epoch')\n",
    "    plt.legend(['accuracy', 'loss'], loc='upper left')\n",
    "    # Save the figure\n",
    "    plt.savefig(accuracy_img_name)\n",
    "    # Show figure\n",
    "    plt.show()\n",
    "\n"
   ]
  }
 ],
 "metadata": {
  "kernelspec": {
   "display_name": "Python 3 (ipykernel)",
   "language": "python",
   "name": "python3"
  },
  "language_info": {
   "codemirror_mode": {
    "name": "ipython",
    "version": 3
   },
   "file_extension": ".py",
   "mimetype": "text/x-python",
   "name": "python",
   "nbconvert_exporter": "python",
   "pygments_lexer": "ipython3",
   "version": "3.6.15"
  }
 },
 "nbformat": 4,
 "nbformat_minor": 5
}
