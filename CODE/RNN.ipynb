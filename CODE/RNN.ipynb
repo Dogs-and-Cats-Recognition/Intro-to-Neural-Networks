{
 "cells": [
  {
   "cell_type": "code",
   "execution_count": 17,
   "id": "bdac698d",
   "metadata": {},
   "outputs": [
    {
     "ename": "ModuleNotFoundError",
     "evalue": "No module named 'keras'",
     "output_type": "error",
     "traceback": [
      "\u001B[1;31m---------------------------------------------------------------------------\u001B[0m",
      "\u001B[1;31mModuleNotFoundError\u001B[0m                       Traceback (most recent call last)",
      "\u001B[1;32m~\\AppData\\Local\\Temp/ipykernel_18584/2717982308.py\u001B[0m in \u001B[0;36m<module>\u001B[1;34m\u001B[0m\n\u001B[0;32m      3\u001B[0m \u001B[1;32mimport\u001B[0m \u001B[0mmath\u001B[0m\u001B[1;33m\u001B[0m\u001B[1;33m\u001B[0m\u001B[0m\n\u001B[0;32m      4\u001B[0m \u001B[1;32mimport\u001B[0m \u001B[0mnumpy\u001B[0m \u001B[1;32mas\u001B[0m \u001B[0mnp\u001B[0m\u001B[1;33m\u001B[0m\u001B[1;33m\u001B[0m\u001B[0m\n\u001B[1;32m----> 5\u001B[1;33m \u001B[1;32mimport\u001B[0m \u001B[0mkeras\u001B[0m\u001B[1;33m.\u001B[0m\u001B[0mcallbacks\u001B[0m\u001B[1;33m\u001B[0m\u001B[1;33m\u001B[0m\u001B[0m\n\u001B[0m\u001B[0;32m      6\u001B[0m \u001B[1;32mimport\u001B[0m \u001B[0msklearn\u001B[0m\u001B[1;33m.\u001B[0m\u001B[0mmetrics\u001B[0m \u001B[1;32mas\u001B[0m \u001B[0mmetrics\u001B[0m\u001B[1;33m\u001B[0m\u001B[1;33m\u001B[0m\u001B[0m\n\u001B[0;32m      7\u001B[0m \u001B[1;32mfrom\u001B[0m \u001B[0mpathlib\u001B[0m \u001B[1;32mimport\u001B[0m \u001B[0mPath\u001B[0m\u001B[1;33m\u001B[0m\u001B[1;33m\u001B[0m\u001B[0m\n",
      "\u001B[1;31mModuleNotFoundError\u001B[0m: No module named 'keras'"
     ]
    }
   ],
   "source": [
    "import matplotlib.pyplot as plt\n",
    "import pandas\n",
    "import math\n",
    "import numpy as np\n",
    "import keras.callbacks\n",
    "import sklearn.metrics as metrics\n",
    "from pathlib import Path\n",
    "from keras.models import Sequential\n",
    "from keras.layers import Dense, Reshape\n",
    "from keras.layers import LSTM,SimpleRNN, GRU\n",
    "from sklearn.preprocessing import MinMaxScaler\n",
    "from keras.preprocessing.image import ImageDataGenerator\n",
    "\n",
    "# Import function to plot the confussion matrix\n",
    "import plotcm\n",
    "\n"
   ]
  },
  {
   "cell_type": "code",
   "execution_count": null,
   "id": "f0c2b8bf",
   "metadata": {
    "pycharm": {
     "is_executing": true
    }
   },
   "outputs": [],
   "source": [
    "#model_type = 'LSTM'\n",
    "#model_type = 'GRU'\n",
    "model_type = 'SIMPLE'\n",
    "#action = \"train\" \n",
    "action = \"test\" \n",
    "\n",
    "\n",
    "data_path = \"../DATA/BW-dogs-vs-cats/train/\"\n",
    "test_path = \"../DATA/BW-dogs-vs-cats/test/\"\n",
    "\n",
    "learning_rate = 0.001\n",
    "training_steps = 10000\n",
    "batch_size = 64\n",
    "shape_size = 200\n",
    "num_hidden = 128\n",
    "display_step = shape_size\n",
    "\n",
    "experiment_rootdir = './RNN-results/'\n",
    "weights_path = experiment_rootdir + model_type + \"_weights.h5\"\n",
    "accuracy_img_name = experiment_rootdir + model_type + '_accuracy-loss.png'\n",
    "cm_dir = experiment_rootdir + model_type + '_'\n",
    "\n",
    "# Output dimension (number of sublects in our problem)\n",
    "num_classes = 2\n",
    "# Name of each gesture of the database\n",
    "CLASSES = ['cat', 'dog']\n",
    "\n",
    "if not os.path.exists(experiment_rootdir):\n",
    "    os.makedirs(experiment_rootdir)\n",
    "if not os.path.exists(experiment_rootdir):\n",
    "    os.makedirs(experiment_rootdir)"
   ]
  },
  {
   "cell_type": "code",
   "execution_count": 12,
   "id": "d0d9d84e",
   "metadata": {},
   "outputs": [
    {
     "data": {
      "text/plain": "\"\\ncount=0\\nfor f_name in os.listdir(path_subjects):\\n    if(count<20):\\n        img = Image.open(path_subjects + '/' + f_name)\\n        plt.imshow(img, vmin=0, vmax=255)\\n        plt.title('subject: ' + str(f_name))\\n        plt.show()\\n        count+=1\\n\""
     },
     "execution_count": 12,
     "metadata": {},
     "output_type": "execute_result"
    }
   ],
   "source": [
    "\"\"\"\n",
    "count=0\n",
    "for f_name in os.listdir(path_subjects):\n",
    "    if(count<20):\n",
    "        img = Image.open(path_subjects + '/' + f_name)\n",
    "        plt.imshow(img, vmin=0, vmax=255)\n",
    "        plt.title('subject: ' + str(f_name))\n",
    "        plt.show()\n",
    "        count+=1\n",
    "\"\"\""
   ]
  },
  {
   "cell_type": "code",
   "execution_count": 13,
   "id": "5b28b2ac",
   "metadata": {},
   "outputs": [
    {
     "ename": "NameError",
     "evalue": "name 'ImageDataGenerator' is not defined",
     "output_type": "error",
     "traceback": [
      "\u001B[1;31m---------------------------------------------------------------------------\u001B[0m",
      "\u001B[1;31mNameError\u001B[0m                                 Traceback (most recent call last)",
      "\u001B[1;32m~\\AppData\\Local\\Temp/ipykernel_18584/3090380705.py\u001B[0m in \u001B[0;36m<module>\u001B[1;34m\u001B[0m\n\u001B[0;32m      1\u001B[0m \u001B[1;31m# prepare iterators\u001B[0m\u001B[1;33m\u001B[0m\u001B[1;33m\u001B[0m\u001B[0m\n\u001B[1;32m----> 2\u001B[1;33m \u001B[0mdatagen\u001B[0m \u001B[1;33m=\u001B[0m \u001B[0mImageDataGenerator\u001B[0m\u001B[1;33m(\u001B[0m\u001B[0mrescale\u001B[0m\u001B[1;33m=\u001B[0m\u001B[1;36m1.0\u001B[0m\u001B[1;33m/\u001B[0m\u001B[1;36m255.0\u001B[0m\u001B[1;33m)\u001B[0m\u001B[1;33m\u001B[0m\u001B[1;33m\u001B[0m\u001B[0m\n\u001B[0m\u001B[0;32m      3\u001B[0m \u001B[1;31m# normalize the dataset\u001B[0m\u001B[1;33m\u001B[0m\u001B[1;33m\u001B[0m\u001B[0m\n\u001B[0;32m      4\u001B[0m \u001B[0mscaler\u001B[0m \u001B[1;33m=\u001B[0m \u001B[0mMinMaxScaler\u001B[0m\u001B[1;33m(\u001B[0m\u001B[0mfeature_range\u001B[0m\u001B[1;33m=\u001B[0m\u001B[1;33m(\u001B[0m\u001B[1;36m0\u001B[0m\u001B[1;33m,\u001B[0m \u001B[1;36m1\u001B[0m\u001B[1;33m)\u001B[0m\u001B[1;33m)\u001B[0m\u001B[1;33m\u001B[0m\u001B[1;33m\u001B[0m\u001B[0m\n\u001B[0;32m      5\u001B[0m \u001B[1;33m\u001B[0m\u001B[0m\n",
      "\u001B[1;31mNameError\u001B[0m: name 'ImageDataGenerator' is not defined"
     ]
    }
   ],
   "source": [
    "# prepare iterators\n",
    "datagen = ImageDataGenerator(rescale=1.0/255.0)\n",
    "# normalize the dataset\n",
    "scaler = MinMaxScaler(feature_range=(0, 1))\n",
    "\n",
    "train_it = datagen.flow_from_directory(data_path, class_mode='binary', color_mode = 'grayscale', batch_size=batch_size, target_size=(shape_size, shape_size))\n",
    "test_it = datagen.flow_from_directory(test_path, class_mode='binary', color_mode = 'grayscale', batch_size=batch_size, target_size=(shape_size, shape_size))\n"
   ]
  },
  {
   "cell_type": "code",
   "execution_count": 14,
   "id": "e5159403",
   "metadata": {},
   "outputs": [],
   "source": [
    "def LSTM_Model():\n",
    "    # create and fit the LSTM network\n",
    "    model = Sequential()\n",
    "    model.add(Reshape((200, 200), input_shape=(200, 200,1)))\n",
    "    model.add(LSTM(4))\n",
    "    model.add(Dense(1))\n",
    "\n",
    "    model.compile(metrics=['accuracy'], loss='mean_squared_error', optimizer='adam')\n",
    "    return model\n",
    "    \n",
    "def GRU_Model():\n",
    "    # create and fit the LSTM network\n",
    "    model = Sequential()\n",
    "    model.add(Reshape((200, 200), input_shape=(200, 200,1)))\n",
    "    model.add(GRU(4,return_sequences=False))\n",
    "    model.add(Dense(1))\n",
    "\n",
    "    model.compile(metrics=['accuracy'], loss='mean_squared_error', optimizer='adam')\n",
    "    return model\n",
    "\n",
    "def SIMPLE_Model():\n",
    "    # create and fit the LSTM network\n",
    "    model = Sequential()\n",
    "    model.add(Reshape((200, 200), input_shape=(200, 200,1)))\n",
    "    model.add(SimpleRNN(128))\n",
    "    model.add(Dense(1))\n",
    "\n",
    "    model.compile(metrics=['accuracy'], loss='mean_squared_error', optimizer='adam')\n",
    "    return model\n"
   ]
  },
  {
   "cell_type": "code",
   "execution_count": null,
   "id": "45416cd0",
   "metadata": {},
   "outputs": [],
   "source": [
    "\n",
    "if model_type == 'LSTM':\n",
    "    model = LSTM_Model()\n",
    "elif model_type == 'GRU':\n",
    "    model = GRU_Model()\n",
    "elif model_type == 'SIMPLE':\n",
    "    model = SIMPLE_Model()\n",
    "\n",
    "if action == 'train':\n",
    "    if  os.path.exists(weights_path):\n",
    "        os.remove(weights_path)\n",
    "    STEPS_PER_EPOCH_TRAIN = train_it.n//batch_size\n",
    "    cb_checkpointer = keras.callbacks.ModelCheckpoint(filepath = weights_path, monitor = 'accuracy', save_best_only = True, mode = 'auto')\n",
    "    fit_history = model.fit_generator(generator=train_it, epochs=10, steps_per_epoch=STEPS_PER_EPOCH_TRAIN, callbacks=[cb_checkpointer])\n",
    "elif action == 'test':\n",
    "    if weights_path:\n",
    "        try:\n",
    "            model.load_weights(weights_path)\n",
    "            print(\"Loaded model from {}\".format(weights_path))\n",
    "        except:\n",
    "            print(\"Impossible to find weight path. Returning untrained model\")\n",
    "    "
   ]
  },
  {
   "cell_type": "code",
   "execution_count": null,
   "id": "1b053212",
   "metadata": {},
   "outputs": [],
   "source": [
    "# Get predictions using predict_generator function\n",
    "STEPS_PER_EPOCH_TEST = test_it.n//batch_size\n",
    "pred_labels = model.predict_generator(test_it,steps = STEPS_PER_EPOCH_TEST)\n",
    "pred_labels = np.argmax(pred_labels, axis = 1)\n",
    "\n",
    "# Select the class which has the higher predicted value\n",
    "print(pred_labels.shape)\n",
    "\n",
    "# Create groundtruth\n",
    "gt = np.zeros(pred_labels.shape)\n",
    "init_index = 0\n",
    "end_index = 0\n",
    "user_id = 0\n",
    "for users in sorted(os.listdir(test_path)):\n",
    "    user_id = user_id + 1\n",
    "    if os.path.isdir(os.path.join(test_path, users)):\n",
    "        user_path = os.path.join(test_path, users)\n",
    "        for root, _, files in sorted(os.walk(user_path)):\n",
    "            num_images_user = len(files)\n",
    "            end_index = init_index + num_images_user\n",
    "            gt[init_index:end_index] = user_id - 1\n",
    "            init_index = end_index\n",
    "            \n",
    "# Evaluate predictions: Average accuracy and highest errors\n",
    "print(\"-----------------------------------------------\")\n",
    "print(\"Evaluation:\")\n",
    "# Compute average accuracy\n",
    "ave_accuracy = metrics.accuracy_score(gt, pred_labels)\n",
    "print('Average accuracy = ' + str(ave_accuracy))\n",
    "print(\"-----------------------------------------------\")\n",
    "\n",
    "# Visualize confusion matrix\n",
    "plotcm.plotcm(path_to_results=cm_dir, real_labels= gt, pred_labels = pred_labels,classes =CLASSES, experiment_rootdir = experiment_rootdir, normalize=True)\n",
    "\n",
    "if action == 'train':\n",
    "    plt.plot(fit_history.history['accuracy'])\n",
    "    plt.plot(fit_history.history['loss'])\n",
    "    plt.title('Model accuracy and loss')\n",
    "    plt.ylabel('vaules')\n",
    "    plt.xlabel('epoch')\n",
    "    plt.legend(['accuracy', 'loss'], loc='upper left')\n",
    "    # Save the figure\n",
    "    plt.savefig(accuracy_img_name)\n",
    "    # Show figure\n",
    "    plt.show()\n",
    "\n"
   ]
  },
  {
   "cell_type": "code",
   "execution_count": null,
   "id": "0dd71d6b",
   "metadata": {},
   "outputs": [],
   "source": [
    "\n",
    "print(cm_dir)"
   ]
  }
 ],
 "metadata": {
  "kernelspec": {
   "display_name": "Python 3 (ipykernel)",
   "language": "python",
   "name": "python3"
  },
  "language_info": {
   "codemirror_mode": {
    "name": "ipython",
    "version": 3
   },
   "file_extension": ".py",
   "mimetype": "text/x-python",
   "name": "python",
   "nbconvert_exporter": "python",
   "pygments_lexer": "ipython3",
   "version": "3.6.7"
  }
 },
 "nbformat": 4,
 "nbformat_minor": 5
}